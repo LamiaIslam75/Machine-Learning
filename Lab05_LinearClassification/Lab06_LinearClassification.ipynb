{
 "cells": [
  {
   "cell_type": "markdown",
   "metadata": {
    "id": "4i0ChBBhxF0K"
   },
   "source": [
    "# Linear Classification\n",
    "\n",
    "In this lab you will implement parts of a linear classification model using the regularized empirical risk minimization principle. By completing this lab and analysing the code, you gain deeper understanding of these type of models, and of gradient descent.\n",
    "\n",
    "\n",
    "## Problem Setting\n",
    "\n",
    "The dataset describes diagnosing of cardiac Single Proton Emission Computed Tomography (SPECT) images. Each of the patients is classified into two categories: normal (1) and abnormal (0). The training data contains 80 SPECT images from which 22 binary features have been extracted. The goal is to predict the label for an unseen test set of 187 tomography images."
   ]
  },
  {
   "cell_type": "code",
   "execution_count": 1,
   "metadata": {
    "id": "qSGEB3UkxF0L",
    "scrolled": true
   },
   "outputs": [],
   "source": [
    "import urllib.request\n",
    "import pandas as pd\n",
    "import numpy as np\n",
    "# for auto-reloading external modules\n",
    "# see http://stackoverflow.com/questions/1907993/autoreload-of-modules-in-ipython\n",
    "%load_ext autoreload\n",
    "%autoreload 2\n",
    "\n",
    "testfile = urllib.request.URLopener()\n",
    "testfile.retrieve(\"http://archive.ics.uci.edu/ml/machine-learning-databases/spect/SPECT.train\", \"SPECT.train\")\n",
    "testfile.retrieve(\"http://archive.ics.uci.edu/ml/machine-learning-databases/spect/SPECT.test\", \"SPECT.test\")\n",
    "\n",
    "df_train = pd.read_csv('SPECT.train',header=None)\n",
    "df_test = pd.read_csv('SPECT.test',header=None)\n",
    "\n",
    "train = df_train.values\n",
    "test = df_test.values\n",
    "\n",
    "y_train = train[:,0]\n",
    "X_train = train[:,1:]\n",
    "y_test = test[:,0]\n",
    "X_test = test[:,1:]"
   ]
  },
  {
   "cell_type": "markdown",
   "metadata": {
    "id": "DBPhAtmexF0N"
   },
   "source": [
    "### Exercise 1\n",
    "\n",
    "Analyze the function learn_reg_ERM(X,y,lambda) which for a given $n\\times m$ data matrix $\\textbf{X}$ and binary class label $\\textbf{y}$ learns and returns a linear model $\\textbf{w}$.\n",
    "The binary class label has to be transformed so that its range is $\\left \\{-1,1 \\right \\}$. \n",
    "The trade-off parameter between the empirical loss and the regularizer is given by $\\lambda > 0$. \n",
    "To adapt the learning rate the Barzilai-Borwein method is used.\n",
    "\n",
    "Try to understand each step of the learning algorithm and comment each line.\n"
   ]
  },
  {
   "cell_type": "code",
   "execution_count": 3,
   "metadata": {
    "id": "1-HgTxIQxF0N"
   },
   "outputs": [],
   "source": [
    "def learn_reg_ERM(X,y,lbda):\n",
    "    max_iter = 200\n",
    "    e  = 0.001\n",
    "    alpha = 1.\n",
    "\n",
    "    w = np.random.randn(X.shape[1]);\n",
    "    for k in np.arange(max_iter):\n",
    "        h = np.dot(X,w)\n",
    "        l,lg = loss(h, y)\n",
    "        print ('loss: {}'.format(np.mean(l)))\n",
    "        r,rg = reg(w, lbda)\n",
    "        g = np.dot(X.T,lg) + rg \n",
    "        if (k > 0):\n",
    "            alpha = alpha * (np.dot(g_old.T,g_old))/(np.dot((g_old - g).T,g_old)) \n",
    "        w = w - alpha * g\n",
    "        if (np.linalg.norm(alpha * g) < e):\n",
    "            break\n",
    "        g_old = g\n",
    "    return w"
   ]
  },
  {
   "cell_type": "markdown",
   "metadata": {
    "id": "l1CmQjDhxF0O"
   },
   "source": [
    "### Exercise 2\n",
    "\n",
    "Fill in the code for the function loss(h,y) which computes the hinge loss and its gradient. \n",
    "This function takes a given vector $\\textbf{y}$ with the true labels $\\in \\left \\{-1,1\\right \\}$ and a vector $\\textbf{h}$ with the function values of the linear model as inputs. The function returns a vector $\\textbf{l}$ with the hinge loss $\\max(0, 1 − y_{i} h_{i})$ and a vector $\\textbf{g}$ with the gradients of the hinge loss w.r.t $\\textbf{h}$. (Note: The partial derivative of the hinge loss with respect to $\\textbf{h}$  is $g_{i} = −y $ if $l_{i} > 0$, else $g_{i} = 0$)"
   ]
  },
  {
   "cell_type": "code",
   "execution_count": 9,
   "metadata": {
    "id": "Vct3IsAYxF0O"
   },
   "outputs": [],
   "source": [
    "def loss(h, y):\n",
    "    # Compute the hinge loss\n",
    "    l = np.maximum(0, 1 - y * h)\n",
    "\n",
    "    # Compute the gradient of the hinge loss\n",
    "    g = -y * (l > 0)\n",
    "\n",
    "    return l, g"
   ]
  },
  {
   "cell_type": "markdown",
   "metadata": {
    "id": "OmdwcNAaxF0P"
   },
   "source": [
    "### Exercise 3\n",
    "\n",
    "Fill in the code for the function reg(w,lambda) which computes the $\\mathcal{L}_2$-regularizer and the gradient of the regularizer function at point $\\textbf{w}$. \n",
    "\n",
    "\n",
    "$$r = \\frac{\\lambda}{2} \\textbf{w}^{T}\\textbf{w}$$\n",
    "\n",
    "$$g = \\lambda \\textbf{w}$$"
   ]
  },
  {
   "cell_type": "code",
   "execution_count": 10,
   "metadata": {
    "id": "CEsrqBTfxF0P"
   },
   "outputs": [],
   "source": [
    "def reg(w, lbda):\n",
    "    # Compute the L2 regularizer\n",
    "    r = 0.5 * lbda * np.dot(w, w)\n",
    "\n",
    "    # Compute the gradient of the L2 regularizer\n",
    "    g = lbda * w\n",
    "\n",
    "    return r, g"
   ]
  },
  {
   "cell_type": "markdown",
   "metadata": {
    "id": "HXlyhFPmxF0Q"
   },
   "source": [
    "### Exercise 4\n",
    "\n",
    "Fill in the code for the function predict(w,x) which predicts the class label $y$ for a data point $\\textbf{x}$ or a matrix $X$ of data points (row-wise) for a previously trained linear model $\\textbf{w}$. If there is only a data point given, the function is supposed to return a scalar value. If a matrix is given a vector of predictions is supposed to be returned."
   ]
  },
  {
   "cell_type": "code",
   "execution_count": 11,
   "metadata": {
    "id": "bnKXor1NxF0Q"
   },
   "outputs": [],
   "source": [
    "def predict(w, X):\n",
    "    # Compute the dot product of w and X\n",
    "    scores = np.dot(X, w)\n",
    "\n",
    "    # Apply the sign function to the scores to get the class labels\n",
    "    preds = np.sign(scores)\n",
    "\n",
    "    return preds"
   ]
  },
  {
   "cell_type": "markdown",
   "metadata": {
    "id": "ltgVMtXIxF0R"
   },
   "source": [
    "### Exercise 5\n",
    "\n",
    "#### 5.1 \n",
    "Train a linear model on the training data and classify all 187 test instances afterwards using the function predict. \n",
    "Please note that the given class labels are in the range $\\left \\{0,1 \\right \\}$, however the learning algorithm expects a label in the range of $\\left \\{-1,1 \\right \\}$. Then, compute the accuracy of your trained linear model on both the training and the test data. "
   ]
  },
  {
   "cell_type": "code",
   "execution_count": 12,
   "metadata": {
    "id": "LqdCXWWYxF0R"
   },
   "outputs": [
    {
     "name": "stdout",
     "output_type": "stream",
     "text": [
      "loss: 1.2037555657722696\n",
      "loss: 13.727515447171266\n",
      "loss: 8.582762842923765\n",
      "loss: 1813.1500000000021\n",
      "loss: 233.71892836622834\n",
      "loss: 582.2695968881267\n",
      "loss: 229.94397355874963\n",
      "loss: 1813.1499999999992\n",
      "loss: 90.60274842322806\n",
      "loss: 90.13140270238789\n",
      "loss: 67.79506102321247\n",
      "loss: 41.65662485510957\n",
      "loss: 17.682107492623494\n",
      "loss: 16.168115733363244\n",
      "loss: 13.863881203169697\n",
      "loss: 7.491990627366907\n",
      "loss: 6.484886243970243\n",
      "loss: 5.341126488144793\n",
      "loss: 6.42074263735298\n",
      "loss: 10.910239898909058\n",
      "loss: 3.8596127056185474\n",
      "loss: 3.223823567107332\n",
      "loss: 5.216237631099078\n",
      "loss: 6.354256329117704\n",
      "loss: 2.7635677401108185\n",
      "loss: 2.385300909942945\n",
      "loss: 2.4432030479400746\n",
      "loss: 2.3432185275449675\n",
      "loss: 2.0848465498784754\n",
      "loss: 1.9998076011802262\n",
      "loss: 2.4877660766343466\n",
      "loss: 3.0727968534707353\n",
      "loss: 2.0224163844476\n",
      "loss: 1.842244633309567\n",
      "loss: 1.7647397443619046\n",
      "loss: 1.8111385144218606\n",
      "loss: 1.7118317779447672\n",
      "loss: 1.6676616435350802\n",
      "loss: 1.6503898848694676\n",
      "loss: 1.7952738988275077\n",
      "loss: 1.6436199312646516\n",
      "loss: 1.5970103426312259\n",
      "loss: 1.5660551275577785\n",
      "loss: 1.5642332233458354\n",
      "loss: 1.8118077738327298\n",
      "loss: 1.528475387995924\n",
      "loss: 1.4997740658392211\n",
      "loss: 1.4874883883138224\n",
      "loss: 1.6301222223786898\n",
      "loss: 1.5157811069435039\n",
      "loss: 1.4285704006773603\n",
      "loss: 1.4110862281754404\n",
      "loss: 1.3814739924706463\n",
      "loss: 2.449362911261626\n",
      "loss: 1.6561350550049763\n",
      "loss: 1.4692163131673333\n",
      "loss: 1.3394696259618173\n",
      "loss: 1.5805716327517598\n",
      "loss: 1.321436785725035\n",
      "loss: 1.3892455561325694\n",
      "loss: 1.2270660966912232\n",
      "loss: 1.2162101722021834\n",
      "loss: 1.2030055335131813\n",
      "loss: 1.1924327179287324\n",
      "loss: 1.197507887302507\n",
      "loss: 1.1791227561428534\n",
      "loss: 1.180279594285117\n",
      "loss: 1.1626596490422352\n",
      "loss: 1.1785402240061944\n",
      "loss: 1.1615987737322868\n",
      "loss: 1.1410160285710662\n",
      "loss: 1.1443917960344039\n",
      "loss: 1.1252775701443407\n",
      "loss: 1.1187166787138287\n",
      "loss: 1.1260435093405878\n",
      "loss: 1.1176900615965333\n",
      "loss: 1.1091137591466134\n",
      "loss: 1.106334562337579\n",
      "loss: 1.1122334712303978\n",
      "loss: 1.1037518112670237\n",
      "loss: 1.1040719453123713\n",
      "loss: 1.1019591265568522\n",
      "loss: 1.1012317047827402\n",
      "loss: 1.100439033239123\n",
      "loss: 1.1040734020692882\n",
      "loss: 1.1013836174139993\n",
      "loss: 1.097659789828457\n",
      "loss: 1.0973203795363369\n",
      "loss: 1.097018771898568\n",
      "loss: 1.0969827954930618\n",
      "loss: 1.0958747417761299\n",
      "loss: 1.0960912325780594\n",
      "loss: 1.0966049019460513\n",
      "loss: 1.0946774038017173\n",
      "loss: 1.0945565276620686\n",
      "loss: 1.0941702883706301\n",
      "loss: 1.0941878368818494\n",
      "loss: 1.093737384962521\n",
      "loss: 1.0934397079941818\n",
      "loss: 1.1016742901866423\n",
      "loss: 1.0934845789903782\n",
      "loss: 1.0944573171357566\n",
      "loss: 1.0925019048396376\n",
      "loss: 1.091330022241414\n",
      "loss: 1.0906058551785438\n",
      "loss: 1.090828802377518\n",
      "loss: 1.0901685323262176\n",
      "loss: 1.089408725597255\n",
      "loss: 1.0894331982824494\n",
      "loss: 1.09148883450775\n",
      "loss: 1.0885644417337943\n",
      "loss: 1.088097907923669\n",
      "loss: 1.0885511741916567\n",
      "loss: 1.0872545918507046\n",
      "loss: 1.0869358879570807\n",
      "loss: 1.0865848527396076\n",
      "loss: 1.086588118762878\n",
      "loss: 1.086298986913178\n",
      "loss: 1.08619468119472\n",
      "loss: 1.086035908133363\n",
      "loss: 1.0855270676489446\n",
      "loss: 1.1002859939699718\n",
      "loss: 1.0864830276588673\n",
      "loss: 1.0914861914868124\n",
      "loss: 1.0858727790220857\n",
      "loss: 1.0814005775480333\n",
      "loss: 1.0837080624670723\n",
      "loss: 1.08311737157862\n",
      "loss: 1.078064455111305\n",
      "loss: 1.0780126364420206\n",
      "loss: 1.0775314758677137\n",
      "loss: 1.0768465582556228\n",
      "loss: 1.0765108066403533\n",
      "loss: 1.0756850341718676\n",
      "loss: 1.107138617450838\n",
      "loss: 1.0774099283973957\n",
      "loss: 1.092458570391007\n",
      "loss: 1.0740079895922225\n",
      "loss: 1.0689397398617775\n",
      "loss: 1.0701665342089823\n",
      "loss: 1.0641530382412974\n",
      "loss: 1.063314617492684\n",
      "loss: 1.0678675046338557\n",
      "loss: 1.0603605179935582\n",
      "loss: 1.0594729916950771\n",
      "loss: 1.058205251153494\n",
      "loss: 1.0569741721187387\n",
      "loss: 1.0566794017200063\n",
      "loss: 1.055403341834544\n",
      "loss: 1.0591227857326502\n",
      "loss: 1.0545908136563331\n",
      "loss: 1.0545300838591234\n",
      "loss: 1.0533655335493335\n",
      "loss: 1.0530135051021108\n",
      "loss: 1.0525895199799917\n",
      "loss: 1.052401832432731\n",
      "loss: 1.0521009037690832\n",
      "loss: 1.0520816233337384\n",
      "loss: 1.0517060361786983\n",
      "loss: 1.051437376432998\n",
      "loss: 1.0514611515736672\n",
      "loss: 1.0521957131498112\n",
      "loss: 1.051024019804057\n",
      "loss: 1.0504065914150176\n",
      "loss: 1.0512948163937117\n",
      "loss: 1.050535898942519\n",
      "loss: 1.0498031389485536\n",
      "loss: 1.0576323353970196\n",
      "loss: 1.0511124768247422\n",
      "loss: 1.0489792946948857\n",
      "loss: 1.0466808927130105\n",
      "loss: 1.0452990092963863\n",
      "loss: 1.045103940110716\n",
      "loss: 1.0453298562010205\n",
      "loss: 1.0443651824167923\n",
      "loss: 1.0435626355461558\n",
      "loss: 1.043484969922674\n",
      "loss: 1.0434819920374516\n",
      "loss: 1.043082105374418\n",
      "loss: 1.042893509973904\n",
      "loss: 1.042808765770123\n",
      "loss: 1.0427747370749347\n",
      "loss: 1.0426540617903712\n",
      "loss: 1.0423385019159126\n",
      "loss: 1.0423310996017654\n",
      "loss: 1.0421405793205638\n",
      "loss: 1.042040251962811\n",
      "loss: 1.0421491348284666\n",
      "loss: 1.0427664675640131\n",
      "loss: 1.0417690324902142\n",
      "loss: 1.0415824476166216\n",
      "loss: 1.0416052328889456\n",
      "loss: 1.0414682230360393\n",
      "loss: 1.0413335147312481\n",
      "loss: 1.0412264071411113\n",
      "loss: 1.0411948098926107\n",
      "loss: 1.0411616053761883\n",
      "loss: 1.0411154200264228\n",
      "loss: 1.0410828222380275\n",
      "loss: 1.0410688478806702\n",
      "Training accuracy: 0.7125\n",
      "Test accuracy: 0.6256684491978609\n"
     ]
    }
   ],
   "source": [
    "# Convert the class labels from {0, 1} to {-1, 1}\n",
    "y_train[y_train == 0] = -1\n",
    "y_test[y_test == 0] = -1\n",
    "\n",
    "# Set the regularization parameter\n",
    "lbda = 0.01\n",
    "\n",
    "# Train the linear model on the training data\n",
    "w = learn_reg_ERM(X_train, y_train, lbda)\n",
    "\n",
    "# Classify the test instances\n",
    "y_pred_train = predict(w, X_train)\n",
    "y_pred_test = predict(w, X_test)\n",
    "\n",
    "# Compute the accuracy on the training data\n",
    "accuracy_train = np.mean(y_pred_train == y_train)\n",
    "\n",
    "# Compute the accuracy on the test data\n",
    "accuracy_test = np.mean(y_pred_test == y_test)\n",
    "\n",
    "print('Training accuracy: {}'.format(accuracy_train))\n",
    "print('Test accuracy: {}'.format(accuracy_test))\n"
   ]
  },
  {
   "cell_type": "markdown",
   "metadata": {
    "id": "IFdpQNg3xF0S"
   },
   "source": [
    "#### 5.2\n",
    "Compare the accuracy of the linear model with the accuracy of a random forest and a decision tree on the training and test data set."
   ]
  },
  {
   "cell_type": "code",
   "execution_count": 13,
   "metadata": {
    "id": "l_u_jEmXxF0T"
   },
   "outputs": [
    {
     "name": "stdout",
     "output_type": "stream",
     "text": [
      "Linear model training accuracy:  0.8375\n",
      "Linear model test accuracy:  0.7700534759358288\n",
      "Random forest training accuracy:  0.9375\n",
      "Random forest test accuracy:  0.786096256684492\n",
      "Decision tree training accuracy:  0.9375\n",
      "Decision tree test accuracy:  0.6844919786096256\n"
     ]
    }
   ],
   "source": [
    "from sklearn.metrics import accuracy_score\n",
    "from sklearn.ensemble import RandomForestClassifier\n",
    "from sklearn.tree import DecisionTreeClassifier\n",
    "from sklearn.linear_model import LogisticRegression\n",
    "\n",
    "# Train a linear model\n",
    "linear_model = LogisticRegression()\n",
    "linear_model.fit(X_train, y_train)\n",
    "linear_pred_train = linear_model.predict(X_train)\n",
    "linear_pred_test = linear_model.predict(X_test)\n",
    "\n",
    "# Train a random forest\n",
    "rf_model = RandomForestClassifier()\n",
    "rf_model.fit(X_train, y_train)\n",
    "rf_pred_train = rf_model.predict(X_train)\n",
    "rf_pred_test = rf_model.predict(X_test)\n",
    "\n",
    "# Train a decision tree\n",
    "dt_model = DecisionTreeClassifier()\n",
    "dt_model.fit(X_train, y_train)\n",
    "dt_pred_train = dt_model.predict(X_train)\n",
    "dt_pred_test = dt_model.predict(X_test)\n",
    "\n",
    "# Compute the accuracy\n",
    "linear_accuracy_train = accuracy_score(y_train, linear_pred_train)\n",
    "linear_accuracy_test = accuracy_score(y_test, linear_pred_test)\n",
    "rf_accuracy_train = accuracy_score(y_train, rf_pred_train)\n",
    "rf_accuracy_test = accuracy_score(y_test, rf_pred_test)\n",
    "dt_accuracy_train = accuracy_score(y_train, dt_pred_train)\n",
    "dt_accuracy_test = accuracy_score(y_test, dt_pred_test)\n",
    "\n",
    "print('Linear model training accuracy: ', linear_accuracy_train)\n",
    "print('Linear model test accuracy: ', linear_accuracy_test)\n",
    "print('Random forest training accuracy: ', rf_accuracy_train)\n",
    "print('Random forest test accuracy: ', rf_accuracy_test)\n",
    "print('Decision tree training accuracy: ', dt_accuracy_train)\n",
    "print('Decision tree test accuracy: ', dt_accuracy_test)\n"
   ]
  },
  {
   "cell_type": "code",
   "execution_count": null,
   "metadata": {},
   "outputs": [],
   "source": []
  }
 ],
 "metadata": {
  "colab": {
   "name": "Lab06_LinearClassification.ipynb",
   "provenance": []
  },
  "kernelspec": {
   "display_name": "Python 3 (ipykernel)",
   "language": "python",
   "name": "python3"
  },
  "language_info": {
   "codemirror_mode": {
    "name": "ipython",
    "version": 3
   },
   "file_extension": ".py",
   "mimetype": "text/x-python",
   "name": "python",
   "nbconvert_exporter": "python",
   "pygments_lexer": "ipython3",
   "version": "3.11.0"
  }
 },
 "nbformat": 4,
 "nbformat_minor": 4
}
